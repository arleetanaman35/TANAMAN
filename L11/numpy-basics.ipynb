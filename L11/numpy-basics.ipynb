{
 "cells": [
  {
   "cell_type": "markdown",
   "id": "9c36df4c",
   "metadata": {},
   "source": [
    "# Numpy Basics <hr style=\"border:2.5px solid rgb(46, 40, 221)\"></hr>"
   ]
  },
  {
   "cell_type": "markdown",
   "id": "cfdff135",
   "metadata": {},
   "source": [
    "Data Analsyt: Arlee D. Tanaman <br>\n",
    "Department: Electrical Engineering"
   ]
  },
  {
   "cell_type": "code",
   "execution_count": 110,
   "id": "6985f0f4",
   "metadata": {},
   "outputs": [],
   "source": [
    "# import and packages\n",
    "import numpy as np\n",
    "from scipy import stats"
   ]
  },
  {
   "cell_type": "markdown",
   "id": "7b3a211c",
   "metadata": {},
   "source": [
    "# 1D Array"
   ]
  },
  {
   "cell_type": "code",
   "execution_count": 111,
   "id": "c62dd35f",
   "metadata": {},
   "outputs": [
    {
     "data": {
      "text/plain": [
       "array([1, 2, 3])"
      ]
     },
     "execution_count": 111,
     "metadata": {},
     "output_type": "execute_result"
    }
   ],
   "source": [
    "array_a = np.array([1, 2, 3])\n",
    "array_a"
   ]
  },
  {
   "cell_type": "markdown",
   "id": "27d6e370",
   "metadata": {},
   "source": [
    "# 2D Array"
   ]
  },
  {
   "cell_type": "code",
   "execution_count": 112,
   "id": "8e9ca7d2",
   "metadata": {},
   "outputs": [
    {
     "data": {
      "text/plain": [
       "array([[1, 2, 3],\n",
       "       [4, 5, 6]])"
      ]
     },
     "execution_count": 112,
     "metadata": {},
     "output_type": "execute_result"
    }
   ],
   "source": [
    "my_array = np.array([\n",
    "    [1, 2, 3],[4, 5, 6]\n",
    "])\n",
    "my_array"
   ]
  },
  {
   "cell_type": "code",
   "execution_count": 113,
   "id": "812c53fd",
   "metadata": {},
   "outputs": [
    {
     "data": {
      "text/plain": [
       "array([[1, 4],\n",
       "       [2, 5],\n",
       "       [3, 6]])"
      ]
     },
     "execution_count": 113,
     "metadata": {},
     "output_type": "execute_result"
    }
   ],
   "source": [
    "my_array.T"
   ]
  },
  {
   "cell_type": "code",
   "execution_count": 114,
   "id": "2671e333",
   "metadata": {},
   "outputs": [],
   "source": [
    "my_array = my_array.T"
   ]
  },
  {
   "cell_type": "code",
   "execution_count": 115,
   "id": "eaf60e0f",
   "metadata": {},
   "outputs": [
    {
     "data": {
      "text/plain": [
       "array([[1, 4],\n",
       "       [2, 5],\n",
       "       [3, 6]])"
      ]
     },
     "execution_count": 115,
     "metadata": {},
     "output_type": "execute_result"
    }
   ],
   "source": [
    "my_array"
   ]
  },
  {
   "cell_type": "code",
   "execution_count": 116,
   "id": "64c71099",
   "metadata": {},
   "outputs": [
    {
     "data": {
      "text/plain": [
       "array([ 6, 15])"
      ]
     },
     "execution_count": 116,
     "metadata": {},
     "output_type": "execute_result"
    }
   ],
   "source": [
    "# add by row\n",
    "np.sum(my_array, axis=0)"
   ]
  },
  {
   "cell_type": "code",
   "execution_count": 117,
   "id": "38bdf24e",
   "metadata": {},
   "outputs": [
    {
     "data": {
      "text/plain": [
       "array([5, 7, 9])"
      ]
     },
     "execution_count": 117,
     "metadata": {},
     "output_type": "execute_result"
    }
   ],
   "source": [
    "# add by column\n",
    "np.sum(my_array, axis=1)"
   ]
  },
  {
   "cell_type": "markdown",
   "id": "2a0835db",
   "metadata": {},
   "source": [
    "# The Measures of Central Tendency"
   ]
  },
  {
   "cell_type": "code",
   "execution_count": 118,
   "id": "0d0489b5",
   "metadata": {},
   "outputs": [
    {
     "data": {
      "text/plain": [
       "array([120,  60,  85, 150, 200])"
      ]
     },
     "execution_count": 118,
     "metadata": {},
     "output_type": "execute_result"
    }
   ],
   "source": [
    "fruits = np.array([120,60,85,150,200])\n",
    "fruits"
   ]
  },
  {
   "cell_type": "code",
   "execution_count": 119,
   "id": "72e84677",
   "metadata": {},
   "outputs": [
    {
     "data": {
      "text/plain": [
       "np.float64(123.0)"
      ]
     },
     "execution_count": 119,
     "metadata": {},
     "output_type": "execute_result"
    }
   ],
   "source": [
    "# mean\n",
    "fruits_mean = np.mean(fruits)\n",
    "fruits_mean"
   ]
  },
  {
   "cell_type": "code",
   "execution_count": 120,
   "id": "aa7e9edb",
   "metadata": {},
   "outputs": [
    {
     "data": {
      "text/plain": [
       "np.float64(120.0)"
      ]
     },
     "execution_count": 120,
     "metadata": {},
     "output_type": "execute_result"
    }
   ],
   "source": [
    "# meadian\n",
    "median_fruits = np.median(fruits)\n",
    "median_fruits"
   ]
  },
  {
   "cell_type": "code",
   "execution_count": 121,
   "id": "69a94f08",
   "metadata": {},
   "outputs": [
    {
     "data": {
      "text/plain": [
       "ModeResult(mode=np.int64(60), count=np.int64(1))"
      ]
     },
     "execution_count": 121,
     "metadata": {},
     "output_type": "execute_result"
    }
   ],
   "source": [
    "mode_fruits = stats.mode(fruits)\n",
    "mode_fruits"
   ]
  },
  {
   "cell_type": "markdown",
   "id": "bd68c509",
   "metadata": {},
   "source": [
    "# Jaguar vs. Panther"
   ]
  },
  {
   "cell_type": "markdown",
   "id": "491153ef",
   "metadata": {},
   "source": [
    "## Jaguar"
   ]
  },
  {
   "cell_type": "code",
   "execution_count": 122,
   "id": "c503a812",
   "metadata": {},
   "outputs": [],
   "source": [
    "jaguar = np.array([10.6,9.1,9.3,9.8,10.5,10.4,9.5,11,10.4,3,9.8])"
   ]
  },
  {
   "cell_type": "code",
   "execution_count": 123,
   "id": "75b7fa00",
   "metadata": {},
   "outputs": [
    {
     "data": {
      "text/plain": [
       "np.float64(9.399999999999999)"
      ]
     },
     "execution_count": 123,
     "metadata": {},
     "output_type": "execute_result"
    }
   ],
   "source": [
    "# jaguar mean\n",
    "jaguar_mean = np.mean(jaguar)\n",
    "jaguar_mean"
   ]
  },
  {
   "cell_type": "code",
   "execution_count": 124,
   "id": "9917a833",
   "metadata": {},
   "outputs": [
    {
     "data": {
      "text/plain": [
       "np.float64(9.8)"
      ]
     },
     "execution_count": 124,
     "metadata": {},
     "output_type": "execute_result"
    }
   ],
   "source": [
    "# jaguar median\n",
    "jaguar_median = np.median(jaguar)\n",
    "jaguar_median"
   ]
  },
  {
   "cell_type": "code",
   "execution_count": 125,
   "id": "cd90647a",
   "metadata": {},
   "outputs": [
    {
     "data": {
      "text/plain": [
       "ModeResult(mode=np.float64(9.8), count=np.int64(2))"
      ]
     },
     "execution_count": 125,
     "metadata": {},
     "output_type": "execute_result"
    }
   ],
   "source": [
    "# jaguar mode\n",
    "jaguar_mode = stats.mode(jaguar)\n",
    "jaguar_mode"
   ]
  },
  {
   "cell_type": "code",
   "execution_count": 126,
   "id": "8a40c129",
   "metadata": {},
   "outputs": [
    {
     "data": {
      "text/plain": [
       "np.float64(2.2045407685048604)"
      ]
     },
     "execution_count": 126,
     "metadata": {},
     "output_type": "execute_result"
    }
   ],
   "source": [
    "# jaguar sample standard deviation\n",
    "jaguar_std = np.std(jaguar, ddof=1)\n",
    "jaguar_std"
   ]
  },
  {
   "cell_type": "code",
   "execution_count": 127,
   "id": "2b117d12",
   "metadata": {},
   "outputs": [
    {
     "data": {
      "text/plain": [
       "np.float64(4.86)"
      ]
     },
     "execution_count": 127,
     "metadata": {},
     "output_type": "execute_result"
    }
   ],
   "source": [
    "# jaguar variance\n",
    "jaguar_var = np.var(jaguar, ddof=1)\n",
    "jaguar_var"
   ]
  },
  {
   "cell_type": "code",
   "execution_count": 128,
   "id": "1ff642c0",
   "metadata": {},
   "outputs": [
    {
     "data": {
      "text/plain": [
       "np.float64(8.0)"
      ]
     },
     "execution_count": 128,
     "metadata": {},
     "output_type": "execute_result"
    }
   ],
   "source": [
    "# jaguar range\n",
    "max_jaguar = np.max(jaguar)\n",
    "min_jaguar = np.min(jaguar)\n",
    "\n",
    "range_jaguar = max_jaguar - min_jaguar\n",
    "range_jaguar"
   ]
  },
  {
   "cell_type": "code",
   "execution_count": 129,
   "id": "7dcbcb9a",
   "metadata": {},
   "outputs": [
    {
     "data": {
      "text/plain": [
       "np.float64(9.4)"
      ]
     },
     "execution_count": 129,
     "metadata": {},
     "output_type": "execute_result"
    }
   ],
   "source": [
    "# q1 jaguar percentile 1\n",
    "q1_jaguar = np.percentile(jaguar, 25)\n",
    "q1_jaguar"
   ]
  },
  {
   "cell_type": "code",
   "execution_count": 130,
   "id": "65e6b0f4",
   "metadata": {},
   "outputs": [
    {
     "data": {
      "text/plain": [
       "np.float64(9.8)"
      ]
     },
     "execution_count": 130,
     "metadata": {},
     "output_type": "execute_result"
    }
   ],
   "source": [
    "# q2 jaguar median percentile 2\n",
    "q2_jaguar = np.percentile(jaguar, 50)\n",
    "q2_jaguar"
   ]
  },
  {
   "cell_type": "code",
   "execution_count": 131,
   "id": "d586dc9c",
   "metadata": {},
   "outputs": [
    {
     "data": {
      "text/plain": [
       "np.float64(10.45)"
      ]
     },
     "execution_count": 131,
     "metadata": {},
     "output_type": "execute_result"
    }
   ],
   "source": [
    "# q3 jaguar percentile 3\n",
    "q3_jaguar = np.percentile(jaguar, 75)\n",
    "q3_jaguar"
   ]
  },
  {
   "cell_type": "code",
   "execution_count": 132,
   "id": "9b47c4c5",
   "metadata": {},
   "outputs": [
    {
     "data": {
      "text/plain": [
       "np.float64(1.049999999999999)"
      ]
     },
     "execution_count": 132,
     "metadata": {},
     "output_type": "execute_result"
    }
   ],
   "source": [
    "# Jaguar IQR\n",
    "iqr_jaguar = q3_jaguar - q1_jaguar\n",
    "iqr_jaguar"
   ]
  },
  {
   "cell_type": "markdown",
   "id": "4aacb9c5",
   "metadata": {},
   "source": [
    "## Panther"
   ]
  },
  {
   "cell_type": "code",
   "execution_count": 133,
   "id": "49c05dc0",
   "metadata": {},
   "outputs": [],
   "source": [
    "panther = np.array([10.1,11,9.1,20,9.2,10.8,9.9,9.2,9.1,9.1])"
   ]
  },
  {
   "cell_type": "code",
   "execution_count": 134,
   "id": "7751f4af",
   "metadata": {},
   "outputs": [
    {
     "data": {
      "text/plain": [
       "np.float64(10.75)"
      ]
     },
     "execution_count": 134,
     "metadata": {},
     "output_type": "execute_result"
    }
   ],
   "source": [
    "# panther mean\n",
    "panther_mean = np.mean(panther)\n",
    "panther_mean"
   ]
  },
  {
   "cell_type": "code",
   "execution_count": 135,
   "id": "86130313",
   "metadata": {},
   "outputs": [
    {
     "data": {
      "text/plain": [
       "np.float64(9.55)"
      ]
     },
     "execution_count": 135,
     "metadata": {},
     "output_type": "execute_result"
    }
   ],
   "source": [
    "# panther median\n",
    "panther_median = np.median(panther)\n",
    "panther_median"
   ]
  },
  {
   "cell_type": "code",
   "execution_count": 136,
   "id": "4eecbedc",
   "metadata": {},
   "outputs": [
    {
     "data": {
      "text/plain": [
       "ModeResult(mode=np.float64(9.1), count=np.int64(3))"
      ]
     },
     "execution_count": 136,
     "metadata": {},
     "output_type": "execute_result"
    }
   ],
   "source": [
    "# panther mode\n",
    "panther_mode = stats.mode(panther)\n",
    "panther_mode"
   ]
  },
  {
   "cell_type": "code",
   "execution_count": 137,
   "id": "f6dc71b6",
   "metadata": {},
   "outputs": [
    {
     "data": {
      "text/plain": [
       "np.float64(3.3290806204983645)"
      ]
     },
     "execution_count": 137,
     "metadata": {},
     "output_type": "execute_result"
    }
   ],
   "source": [
    "# panther sample standard deviation\n",
    "panther_std = np.std(panther, ddof=1)\n",
    "panther_std"
   ]
  },
  {
   "cell_type": "code",
   "execution_count": 138,
   "id": "2ffc869d",
   "metadata": {},
   "outputs": [
    {
     "data": {
      "text/plain": [
       "np.float64(11.082777777777777)"
      ]
     },
     "execution_count": 138,
     "metadata": {},
     "output_type": "execute_result"
    }
   ],
   "source": [
    "# panther variance\n",
    "panther_var = np.var(panther, ddof=1)\n",
    "panther_var"
   ]
  },
  {
   "cell_type": "code",
   "execution_count": 139,
   "id": "0a269601",
   "metadata": {},
   "outputs": [
    {
     "data": {
      "text/plain": [
       "np.float64(10.9)"
      ]
     },
     "execution_count": 139,
     "metadata": {},
     "output_type": "execute_result"
    }
   ],
   "source": [
    "# panther range\n",
    "max_panther = np.max(panther)\n",
    "min_panther = np.min(panther)\n",
    "\n",
    "range_panther = max_panther - min_panther\n",
    "range_panther"
   ]
  },
  {
   "cell_type": "code",
   "execution_count": 140,
   "id": "c56db3fb",
   "metadata": {},
   "outputs": [
    {
     "data": {
      "text/plain": [
       "np.float64(9.125)"
      ]
     },
     "execution_count": 140,
     "metadata": {},
     "output_type": "execute_result"
    }
   ],
   "source": [
    "# q1 panther percentile 1\n",
    "q1_panther = np.percentile(panther, 25)\n",
    "q1_panther\n"
   ]
  },
  {
   "cell_type": "code",
   "execution_count": 141,
   "id": "d6a8446e",
   "metadata": {},
   "outputs": [
    {
     "data": {
      "text/plain": [
       "np.float64(9.55)"
      ]
     },
     "execution_count": 141,
     "metadata": {},
     "output_type": "execute_result"
    }
   ],
   "source": [
    "# q2 panther median percentile 2\n",
    "q2_panther = np.percentile(panther, 50)\n",
    "q2_panther"
   ]
  },
  {
   "cell_type": "code",
   "execution_count": 142,
   "id": "981ed15a",
   "metadata": {},
   "outputs": [
    {
     "data": {
      "text/plain": [
       "np.float64(10.625)"
      ]
     },
     "execution_count": 142,
     "metadata": {},
     "output_type": "execute_result"
    }
   ],
   "source": [
    "# q3 panther percentile 3\n",
    "q3_panther = np.percentile(panther, 75)\n",
    "q3_panther"
   ]
  },
  {
   "cell_type": "code",
   "execution_count": 143,
   "id": "2d388a3b",
   "metadata": {},
   "outputs": [
    {
     "data": {
      "text/plain": [
       "np.float64(1.5)"
      ]
     },
     "execution_count": 143,
     "metadata": {},
     "output_type": "execute_result"
    }
   ],
   "source": [
    "# IQR panther\n",
    "iqr_panther = q3_panther - q1_panther\n",
    "iqr_panther"
   ]
  }
 ],
 "metadata": {
  "kernelspec": {
   "display_name": "Python 3",
   "language": "python",
   "name": "python3"
  },
  "language_info": {
   "codemirror_mode": {
    "name": "ipython",
    "version": 3
   },
   "file_extension": ".py",
   "mimetype": "text/x-python",
   "name": "python",
   "nbconvert_exporter": "python",
   "pygments_lexer": "ipython3",
   "version": "3.13.2"
  }
 },
 "nbformat": 4,
 "nbformat_minor": 5
}
