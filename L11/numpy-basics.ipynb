{
 "cells": [
  {
   "cell_type": "markdown",
   "id": "9c36df4c",
   "metadata": {},
   "source": [
    "# Numpy Basics <hr style=\"border:2.5px solid rgb(46, 40, 221)\"></hr>"
   ]
  },
  {
   "cell_type": "markdown",
   "id": "cfdff135",
   "metadata": {},
   "source": [
    "Data Analsyt: Arlee D. Tanaman <br>\n",
    "Department: Electrical Engineering"
   ]
  },
  {
   "cell_type": "code",
   "execution_count": 24,
   "id": "6985f0f4",
   "metadata": {},
   "outputs": [],
   "source": [
    "# import and packages\n",
    "import numpy as np\n",
    "from scipy import stats"
   ]
  },
  {
   "cell_type": "markdown",
   "id": "7b3a211c",
   "metadata": {},
   "source": [
    "# 1D Array"
   ]
  },
  {
   "cell_type": "code",
   "execution_count": 42,
   "id": "c62dd35f",
   "metadata": {},
   "outputs": [
    {
     "data": {
      "text/plain": [
       "array([1, 2, 3])"
      ]
     },
     "execution_count": 42,
     "metadata": {},
     "output_type": "execute_result"
    }
   ],
   "source": [
    "array_a = np.array([1, 2, 3])\n",
    "array_a"
   ]
  },
  {
   "cell_type": "markdown",
   "id": "27d6e370",
   "metadata": {},
   "source": [
    "# 2D Array"
   ]
  },
  {
   "cell_type": "code",
   "execution_count": 44,
   "id": "8e9ca7d2",
   "metadata": {},
   "outputs": [
    {
     "data": {
      "text/plain": [
       "array([[1, 2, 3],\n",
       "       [4, 5, 6]])"
      ]
     },
     "execution_count": 44,
     "metadata": {},
     "output_type": "execute_result"
    }
   ],
   "source": [
    "my_array = np.array([\n",
    "    [1, 2, 3],[4, 5, 6]\n",
    "])\n",
    "my_array"
   ]
  },
  {
   "cell_type": "code",
   "execution_count": 45,
   "id": "812c53fd",
   "metadata": {},
   "outputs": [
    {
     "data": {
      "text/plain": [
       "array([[1, 4],\n",
       "       [2, 5],\n",
       "       [3, 6]])"
      ]
     },
     "execution_count": 45,
     "metadata": {},
     "output_type": "execute_result"
    }
   ],
   "source": [
    "my_array.T"
   ]
  },
  {
   "cell_type": "code",
   "execution_count": 46,
   "id": "2671e333",
   "metadata": {},
   "outputs": [],
   "source": [
    "my_array = my_array.T"
   ]
  },
  {
   "cell_type": "code",
   "execution_count": 47,
   "id": "eaf60e0f",
   "metadata": {},
   "outputs": [
    {
     "data": {
      "text/plain": [
       "array([[1, 4],\n",
       "       [2, 5],\n",
       "       [3, 6]])"
      ]
     },
     "execution_count": 47,
     "metadata": {},
     "output_type": "execute_result"
    }
   ],
   "source": [
    "my_array"
   ]
  },
  {
   "cell_type": "code",
   "execution_count": 49,
   "id": "64c71099",
   "metadata": {},
   "outputs": [
    {
     "data": {
      "text/plain": [
       "array([ 6, 15])"
      ]
     },
     "execution_count": 49,
     "metadata": {},
     "output_type": "execute_result"
    }
   ],
   "source": [
    "# add by row\n",
    "np.sum(my_array, axis=0)"
   ]
  },
  {
   "cell_type": "code",
   "execution_count": 51,
   "id": "38bdf24e",
   "metadata": {},
   "outputs": [
    {
     "data": {
      "text/plain": [
       "array([5, 7, 9])"
      ]
     },
     "execution_count": 51,
     "metadata": {},
     "output_type": "execute_result"
    }
   ],
   "source": [
    "# add by column\n",
    "np.sum(my_array, axis=1)"
   ]
  },
  {
   "cell_type": "markdown",
   "id": "2a0835db",
   "metadata": {},
   "source": [
    "# The Measures of Central Tendency"
   ]
  },
  {
   "cell_type": "code",
   "execution_count": 25,
   "id": "0d0489b5",
   "metadata": {},
   "outputs": [
    {
     "data": {
      "text/plain": [
       "array([120,  60,  85, 150, 200])"
      ]
     },
     "execution_count": 25,
     "metadata": {},
     "output_type": "execute_result"
    }
   ],
   "source": [
    "fruits = np.array([120,60,85,150,200])\n",
    "fruits"
   ]
  },
  {
   "cell_type": "code",
   "execution_count": 26,
   "id": "72e84677",
   "metadata": {},
   "outputs": [
    {
     "data": {
      "text/plain": [
       "np.float64(123.0)"
      ]
     },
     "execution_count": 26,
     "metadata": {},
     "output_type": "execute_result"
    }
   ],
   "source": [
    "# mean\n",
    "fruits_mean = np.mean(fruits)\n",
    "fruits_mean"
   ]
  },
  {
   "cell_type": "code",
   "execution_count": 27,
   "id": "aa7e9edb",
   "metadata": {},
   "outputs": [
    {
     "data": {
      "text/plain": [
       "np.float64(120.0)"
      ]
     },
     "execution_count": 27,
     "metadata": {},
     "output_type": "execute_result"
    }
   ],
   "source": [
    "# meadian\n",
    "median_fruits = np.median(fruits)\n",
    "median_fruits"
   ]
  },
  {
   "cell_type": "code",
   "execution_count": 28,
   "id": "69a94f08",
   "metadata": {},
   "outputs": [
    {
     "data": {
      "text/plain": [
       "ModeResult(mode=np.int64(60), count=np.int64(1))"
      ]
     },
     "execution_count": 28,
     "metadata": {},
     "output_type": "execute_result"
    }
   ],
   "source": [
    "mode_fruits = stats.mode(fruits)\n",
    "mode_fruits"
   ]
  },
  {
   "cell_type": "markdown",
   "id": "bd68c509",
   "metadata": {},
   "source": [
    "# Jaguar vs. Panther"
   ]
  },
  {
   "cell_type": "markdown",
   "id": "491153ef",
   "metadata": {},
   "source": [
    "## Jaguar"
   ]
  },
  {
   "cell_type": "code",
   "execution_count": 29,
   "id": "c503a812",
   "metadata": {},
   "outputs": [],
   "source": [
    "jaguar = np.array([10.6,9.1,9.3,9.8,10.5,10.4,9.5,11,10.4,3,9.8])"
   ]
  },
  {
   "cell_type": "code",
   "execution_count": 30,
   "id": "75b7fa00",
   "metadata": {},
   "outputs": [
    {
     "data": {
      "text/plain": [
       "np.float64(9.399999999999999)"
      ]
     },
     "execution_count": 30,
     "metadata": {},
     "output_type": "execute_result"
    }
   ],
   "source": [
    "# jaguar mean\n",
    "jaguar_mean = np.mean(jaguar)\n",
    "jaguar_mean"
   ]
  },
  {
   "cell_type": "code",
   "execution_count": 31,
   "id": "9917a833",
   "metadata": {},
   "outputs": [
    {
     "data": {
      "text/plain": [
       "np.float64(9.8)"
      ]
     },
     "execution_count": 31,
     "metadata": {},
     "output_type": "execute_result"
    }
   ],
   "source": [
    "# jaguar median\n",
    "jaguar_median = np.median(jaguar)\n",
    "jaguar_median"
   ]
  },
  {
   "cell_type": "code",
   "execution_count": 32,
   "id": "cd90647a",
   "metadata": {},
   "outputs": [
    {
     "data": {
      "text/plain": [
       "ModeResult(mode=np.float64(9.8), count=np.int64(2))"
      ]
     },
     "execution_count": 32,
     "metadata": {},
     "output_type": "execute_result"
    }
   ],
   "source": [
    "# jaguar mode\n",
    "jaguar_mode = stats.mode(jaguar)\n",
    "jaguar_mode"
   ]
  },
  {
   "cell_type": "code",
   "execution_count": 70,
   "id": "8a40c129",
   "metadata": {},
   "outputs": [
    {
     "data": {
      "text/plain": [
       "np.float64(2.2045407685048604)"
      ]
     },
     "execution_count": 70,
     "metadata": {},
     "output_type": "execute_result"
    }
   ],
   "source": [
    "# jaguar sample standard deviation\n",
    "jaguar_std = np.std(jaguar, ddof=1)\n",
    "jaguar_std"
   ]
  },
  {
   "cell_type": "code",
   "execution_count": 67,
   "id": "2b117d12",
   "metadata": {},
   "outputs": [
    {
     "data": {
      "text/plain": [
       "np.float64(4.86)"
      ]
     },
     "execution_count": 67,
     "metadata": {},
     "output_type": "execute_result"
    }
   ],
   "source": [
    "# jaguar variance\n",
    "jaguar_var = np.var(jaguar, ddof=1)\n",
    "jaguar_var"
   ]
  },
  {
   "cell_type": "code",
   "execution_count": 66,
   "id": "1ff642c0",
   "metadata": {},
   "outputs": [
    {
     "data": {
      "text/plain": [
       "np.float64(8.0)"
      ]
     },
     "execution_count": 66,
     "metadata": {},
     "output_type": "execute_result"
    }
   ],
   "source": [
    "# jaguar range\n",
    "max_jaguar = np.max(jaguar)\n",
    "min_jaguar = np.min(jaguar)\n",
    "\n",
    "range_jaguar = max_jaguar - min_jaguar\n",
    "range_jaguar"
   ]
  },
  {
   "cell_type": "code",
   "execution_count": 60,
   "id": "7dcbcb9a",
   "metadata": {},
   "outputs": [
    {
     "data": {
      "text/plain": [
       "np.float64(9.4)"
      ]
     },
     "execution_count": 60,
     "metadata": {},
     "output_type": "execute_result"
    }
   ],
   "source": [
    "# q1 jaguar percentile 1\n",
    "q1_jaguar = np.percentile(jaguar, 25)\n",
    "q1_jaguar"
   ]
  },
  {
   "cell_type": "code",
   "execution_count": 65,
   "id": "65e6b0f4",
   "metadata": {},
   "outputs": [
    {
     "data": {
      "text/plain": [
       "np.float64(9.8)"
      ]
     },
     "execution_count": 65,
     "metadata": {},
     "output_type": "execute_result"
    }
   ],
   "source": [
    "# q2 jaguar median percentile 2\n",
    "q2_jaguar = np.percentile(jaguar, 50)\n",
    "q2_jaguar"
   ]
  },
  {
   "cell_type": "code",
   "execution_count": 63,
   "id": "d586dc9c",
   "metadata": {},
   "outputs": [
    {
     "data": {
      "text/plain": [
       "np.float64(10.45)"
      ]
     },
     "execution_count": 63,
     "metadata": {},
     "output_type": "execute_result"
    }
   ],
   "source": [
    "# q3 jaguar percentile 3\n",
    "q3_jaguar = np.percentile(jaguar, 75)\n",
    "q3_jaguar"
   ]
  },
  {
   "cell_type": "code",
   "execution_count": 62,
   "id": "9b47c4c5",
   "metadata": {},
   "outputs": [
    {
     "data": {
      "text/plain": [
       "np.float64(1.049999999999999)"
      ]
     },
     "execution_count": 62,
     "metadata": {},
     "output_type": "execute_result"
    }
   ],
   "source": [
    "# Jaguar IQR\n",
    "iqr_jaguar = q3_jaguar - q1_jaguar\n",
    "iqr_jaguar"
   ]
  },
  {
   "cell_type": "markdown",
   "id": "4aacb9c5",
   "metadata": {},
   "source": [
    "## Panther"
   ]
  },
  {
   "cell_type": "code",
   "execution_count": 33,
   "id": "49c05dc0",
   "metadata": {},
   "outputs": [],
   "source": [
    "panther = np.array([10.1,11,9.1,20,9.2,10.8,9.9,9.2,9.1,9.1])"
   ]
  },
  {
   "cell_type": "code",
   "execution_count": 34,
   "id": "7751f4af",
   "metadata": {},
   "outputs": [
    {
     "data": {
      "text/plain": [
       "np.float64(10.75)"
      ]
     },
     "execution_count": 34,
     "metadata": {},
     "output_type": "execute_result"
    }
   ],
   "source": [
    "# panther mean\n",
    "panther_mean = np.mean(panther)\n",
    "panther_mean"
   ]
  },
  {
   "cell_type": "code",
   "execution_count": 35,
   "id": "86130313",
   "metadata": {},
   "outputs": [
    {
     "data": {
      "text/plain": [
       "np.float64(9.55)"
      ]
     },
     "execution_count": 35,
     "metadata": {},
     "output_type": "execute_result"
    }
   ],
   "source": [
    "# panther median\n",
    "panther_median = np.median(panther)\n",
    "panther_median"
   ]
  },
  {
   "cell_type": "code",
   "execution_count": 36,
   "id": "4eecbedc",
   "metadata": {},
   "outputs": [
    {
     "data": {
      "text/plain": [
       "ModeResult(mode=np.float64(9.1), count=np.int64(3))"
      ]
     },
     "execution_count": 36,
     "metadata": {},
     "output_type": "execute_result"
    }
   ],
   "source": [
    "# panther mode\n",
    "panther_mode = stats.mode(panther)\n",
    "panther_mode"
   ]
  },
  {
   "cell_type": "code",
   "execution_count": 71,
   "id": "f6dc71b6",
   "metadata": {},
   "outputs": [
    {
     "data": {
      "text/plain": [
       "np.float64(3.3290806204983645)"
      ]
     },
     "execution_count": 71,
     "metadata": {},
     "output_type": "execute_result"
    }
   ],
   "source": [
    "# panther sample standard deviation\n",
    "panther_std = np.std(panther, ddof=1)\n",
    "panther_std"
   ]
  },
  {
   "cell_type": "code",
   "execution_count": 69,
   "id": "2ffc869d",
   "metadata": {},
   "outputs": [
    {
     "data": {
      "text/plain": [
       "np.float64(11.082777777777777)"
      ]
     },
     "execution_count": 69,
     "metadata": {},
     "output_type": "execute_result"
    }
   ],
   "source": [
    "# panther variance\n",
    "panther_var = np.var(panther, ddof=1)\n",
    "panther_var"
   ]
  },
  {
   "cell_type": "code",
   "execution_count": 68,
   "id": "0a269601",
   "metadata": {},
   "outputs": [
    {
     "data": {
      "text/plain": [
       "np.float64(10.9)"
      ]
     },
     "execution_count": 68,
     "metadata": {},
     "output_type": "execute_result"
    }
   ],
   "source": [
    "# panther range\n",
    "max_panther = np.max(panther)\n",
    "min_panther = np.min(panther)\n",
    "\n",
    "range_panther = max_panther - min_panther\n",
    "range_panther"
   ]
  },
  {
   "cell_type": "code",
   "execution_count": 75,
   "id": "c56db3fb",
   "metadata": {},
   "outputs": [
    {
     "data": {
      "text/plain": [
       "np.float64(9.125)"
      ]
     },
     "execution_count": 75,
     "metadata": {},
     "output_type": "execute_result"
    }
   ],
   "source": [
    "# q1 panther percentile 1\n",
    "q1_panther = np.percentile(panther, 25)\n",
    "q1_panther\n"
   ]
  },
  {
   "cell_type": "code",
   "execution_count": null,
   "id": "d6a8446e",
   "metadata": {},
   "outputs": [
    {
     "data": {
      "text/plain": [
       "np.float64(9.55)"
      ]
     },
     "execution_count": 74,
     "metadata": {},
     "output_type": "execute_result"
    }
   ],
   "source": [
    "# q2 panther median percentile 2\n",
    "q2_panther = np.percentile(panther, 50)\n",
    "q2_panther"
   ]
  },
  {
   "cell_type": "code",
   "execution_count": 73,
   "id": "981ed15a",
   "metadata": {},
   "outputs": [
    {
     "data": {
      "text/plain": [
       "np.float64(10.625)"
      ]
     },
     "execution_count": 73,
     "metadata": {},
     "output_type": "execute_result"
    }
   ],
   "source": [
    "# q3 panther percentile 3\n",
    "q3_panther = np.percentile(panther, 75)\n",
    "q3_panther"
   ]
  },
  {
   "cell_type": "code",
   "execution_count": 72,
   "id": "2d388a3b",
   "metadata": {},
   "outputs": [
    {
     "data": {
      "text/plain": [
       "np.float64(1.5)"
      ]
     },
     "execution_count": 72,
     "metadata": {},
     "output_type": "execute_result"
    }
   ],
   "source": [
    "# IQR panther\n",
    "iqr_panther = q3_panther - q1_panther\n",
    "iqr_panther"
   ]
  }
 ],
 "metadata": {
  "kernelspec": {
   "display_name": "Python 3",
   "language": "python",
   "name": "python3"
  },
  "language_info": {
   "codemirror_mode": {
    "name": "ipython",
    "version": 3
   },
   "file_extension": ".py",
   "mimetype": "text/x-python",
   "name": "python",
   "nbconvert_exporter": "python",
   "pygments_lexer": "ipython3",
   "version": "3.13.2"
  }
 },
 "nbformat": 4,
 "nbformat_minor": 5
}
