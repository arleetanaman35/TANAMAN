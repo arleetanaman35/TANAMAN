{
 "cells": [
  {
   "cell_type": "markdown",
   "id": "899ac287",
   "metadata": {},
   "source": [
    "# if-else statement <hr style=\"border:2.5px solid rgb(46, 40, 221)\"></hr>"
   ]
  },
  {
   "cell_type": "markdown",
   "id": "9bddb78a",
   "metadata": {},
   "source": [
    "Data Analsyt: Arlee D. Tanaman <br>\n",
    "Department: Electrical Engineering"
   ]
  },
  {
   "cell_type": "markdown",
   "id": "9aa3c1fb",
   "metadata": {},
   "source": [
    "# if statement"
   ]
  },
  {
   "cell_type": "code",
   "execution_count": 5,
   "id": "8d8aad7d",
   "metadata": {},
   "outputs": [
    {
     "name": "stdout",
     "output_type": "stream",
     "text": [
      "PASSED\n"
     ]
    }
   ],
   "source": [
    "# passing score is 5.0\n",
    "grade = 5.1\n",
    "if grade >= 5.0:\n",
    "    print(\"PASSED\")"
   ]
  },
  {
   "cell_type": "code",
   "execution_count": 6,
   "id": "37930817",
   "metadata": {},
   "outputs": [
    {
     "name": "stdout",
     "output_type": "stream",
     "text": [
      "PASSED\n"
     ]
    }
   ],
   "source": [
    "# two if statements are evaluated\n",
    "grade = 7.5\n",
    "# evaluate grade\n",
    "if grade >= 5.0:\n",
    "    print(\"PASSED\")\n",
    "if grade <5.0:\n",
    "    print(\"FAILED\")"
   ]
  },
  {
   "cell_type": "markdown",
   "id": "6a17cc15",
   "metadata": {},
   "source": [
    "# if-else statement "
   ]
  },
  {
   "cell_type": "code",
   "execution_count": 7,
   "id": "5f2775fa",
   "metadata": {},
   "outputs": [
    {
     "name": "stdout",
     "output_type": "stream",
     "text": [
      "FAILED\n"
     ]
    }
   ],
   "source": [
    "# if grade >= 5.0 is True,'else' will not be evaluated\n",
    "grade = 4.0\n",
    "# evaluate grade\n",
    "if grade >= 5.0:\n",
    "    print(\"PASSED\")\n",
    "if grade <5.0:\n",
    "    print(\"FAILED\")"
   ]
  },
  {
   "cell_type": "markdown",
   "id": "b3ac0794",
   "metadata": {},
   "source": [
    "# if-elif-else statement"
   ]
  },
  {
   "cell_type": "code",
   "execution_count": 15,
   "id": "6f741d51",
   "metadata": {},
   "outputs": [
    {
     "name": "stdout",
     "output_type": "stream",
     "text": [
      "FAILED\n"
     ]
    }
   ],
   "source": [
    "# if grade >= 5.0 is True,'others' will not be evaluated\n",
    "grade = 2.9\n",
    "# evaluate grade\n",
    "if grade >= 5.0:\n",
    "    print(\"PASSED\")\n",
    "elif grade < 5.0: # < 5.0 evaluated first\n",
    "    print(\"FAILED\")\n",
    "elif grade < 3.0:\n",
    "    print(\"DISMISSED\")\n",
    "else:\n",
    "    print(\"INVALID\")\n"
   ]
  },
  {
   "cell_type": "code",
   "execution_count": 14,
   "id": "3db8eeb3",
   "metadata": {},
   "outputs": [
    {
     "name": "stdout",
     "output_type": "stream",
     "text": [
      "DISMISSED\n"
     ]
    }
   ],
   "source": [
    "# if grade >= 5.0 is True,'others' will not be evaluated\n",
    "grade = 2.9\n",
    "# evaluate grade\n",
    "if grade >= 5.0:\n",
    "    print(\"PASSED\")\n",
    "elif grade < 3.0: # < 3.0 evaluated first\n",
    "    print(\"DISMISSED\")\n",
    "elif grade < 5.0:\n",
    "    print(\"FAILED\")\n",
    "else:\n",
    "    print(\"INVALID\")"
   ]
  }
 ],
 "metadata": {
  "kernelspec": {
   "display_name": "Python 3",
   "language": "python",
   "name": "python3"
  },
  "language_info": {
   "codemirror_mode": {
    "name": "ipython",
    "version": 3
   },
   "file_extension": ".py",
   "mimetype": "text/x-python",
   "name": "python",
   "nbconvert_exporter": "python",
   "pygments_lexer": "ipython3",
   "version": "3.13.2"
  }
 },
 "nbformat": 4,
 "nbformat_minor": 5
}
