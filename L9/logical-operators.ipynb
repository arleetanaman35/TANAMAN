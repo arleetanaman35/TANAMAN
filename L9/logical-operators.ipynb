{
 "cells": [
  {
   "cell_type": "markdown",
   "id": "121dcd6f",
   "metadata": {},
   "source": [
    "# Logical Operators <hr style=\"border:2.5px solid rgb(46, 40, 221)\"></hr>"
   ]
  },
  {
   "cell_type": "markdown",
   "id": "9eb25b58",
   "metadata": {},
   "source": [
    "Data Analsyt: Arlee D. Tanaman <br>\n",
    "Department: Electrical Engineering"
   ]
  },
  {
   "cell_type": "markdown",
   "id": "90901762",
   "metadata": {},
   "source": [
    "# Logical AND"
   ]
  },
  {
   "cell_type": "code",
   "execution_count": 1,
   "id": "7bec467a",
   "metadata": {},
   "outputs": [
    {
     "name": "stdout",
     "output_type": "stream",
     "text": [
      "Both are True\n"
     ]
    }
   ],
   "source": [
    "# a AND b must be true\n",
    "a = True\n",
    "b = True    \n",
    "if a and b:\n",
    "    print(\"Both are True\")\n",
    "elif not(a) and not(b):\n",
    "    print(\"both are false\")\n",
    "else:\n",
    "    print(\"at least one is False\")\n"
   ]
  },
  {
   "cell_type": "code",
   "execution_count": 2,
   "id": "66da15e1",
   "metadata": {},
   "outputs": [
    {
     "name": "stdout",
     "output_type": "stream",
     "text": [
      "35 is out of range\n"
     ]
    }
   ],
   "source": [
    "# check if a is within the range of 0 to 30\n",
    "a = 35\n",
    "if (a > 0) and (a <= 10):\n",
    "    print(str(a) + \" is within the range of 0 to 10\")\n",
    "elif (a > 10) and (a <= 20):\n",
    "    print(str(a) + \" is within the range of 11 to 20\")\n",
    "elif (a > 20) and (a <= 30):\n",
    "    print(str(a) + \" is within the range of 21 to 30\")\n",
    "else:\n",
    "    print(str(a) + \" is out of range\")"
   ]
  },
  {
   "cell_type": "markdown",
   "id": "eea93c1d",
   "metadata": {},
   "source": [
    "# Logical OR"
   ]
  },
  {
   "cell_type": "code",
   "execution_count": 3,
   "id": "5cf16d81",
   "metadata": {},
   "outputs": [
    {
     "name": "stdout",
     "output_type": "stream",
     "text": [
      "Both are False\n"
     ]
    }
   ],
   "source": [
    "# either a OR b is True\n",
    "a = False\n",
    "b = False\n",
    "if a or b:\n",
    "    print(\"At least one is True\")\n",
    "else:\n",
    "    print(\"Both are False\")"
   ]
  },
  {
   "cell_type": "code",
   "execution_count": 4,
   "id": "0c827949",
   "metadata": {},
   "outputs": [
    {
     "name": "stdout",
     "output_type": "stream",
     "text": [
      "Bring an umbrella or stay indoors\n"
     ]
    }
   ],
   "source": [
    "# Go outside or stay indoor\n",
    "weather = \"rainy\"\n",
    "if(weather == 'rainy') or (weather == 'stormy'):\n",
    "    print(\"Bring an umbrella or stay indoors\")\n",
    "elif(weather == 'sunny') or (weather == 'clear'):\n",
    "    print(\"It's a great day to go outside!\")\n",
    "else:\n",
    "    print(\"Weather is unpredictable today\")\n",
    "    \n",
    "    "
   ]
  },
  {
   "cell_type": "markdown",
   "id": "3e8dcfaa",
   "metadata": {},
   "source": [
    "# Logical NOT"
   ]
  },
  {
   "cell_type": "code",
   "execution_count": 5,
   "id": "77c7b33b",
   "metadata": {},
   "outputs": [
    {
     "data": {
      "text/plain": [
       "True"
      ]
     },
     "execution_count": 5,
     "metadata": {},
     "output_type": "execute_result"
    }
   ],
   "source": [
    "# negates the logical state\n",
    "a = False\n",
    "not a "
   ]
  },
  {
   "cell_type": "code",
   "execution_count": 6,
   "id": "0f53d0e5",
   "metadata": {},
   "outputs": [
    {
     "name": "stdout",
     "output_type": "stream",
     "text": [
      "35 is an odd number\n"
     ]
    }
   ],
   "source": [
    "# odd or even number\n",
    "a = 35\n",
    "if a % 2 == 0:\n",
    "    print(str(a) + \" is an even number\")\n",
    "else:\n",
    "    print(str(a) + \" is an odd number\")"
   ]
  }
 ],
 "metadata": {
  "kernelspec": {
   "display_name": "Python 3",
   "language": "python",
   "name": "python3"
  },
  "language_info": {
   "codemirror_mode": {
    "name": "ipython",
    "version": 3
   },
   "file_extension": ".py",
   "mimetype": "text/x-python",
   "name": "python",
   "nbconvert_exporter": "python",
   "pygments_lexer": "ipython3",
   "version": "3.13.2"
  }
 },
 "nbformat": 4,
 "nbformat_minor": 5
}
